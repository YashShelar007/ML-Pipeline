{
 "cells": [
  {
   "cell_type": "code",
   "execution_count": 1,
   "metadata": {},
   "outputs": [],
   "source": [
    "import os"
   ]
  },
  {
   "cell_type": "code",
   "execution_count": 2,
   "metadata": {},
   "outputs": [
    {
     "data": {
      "text/plain": [
       "'/Users/mark42/Documents/ML-Pipeline/research'"
      ]
     },
     "execution_count": 2,
     "metadata": {},
     "output_type": "execute_result"
    }
   ],
   "source": [
    "%pwd"
   ]
  },
  {
   "cell_type": "code",
   "execution_count": 3,
   "metadata": {},
   "outputs": [],
   "source": [
    "os.chdir(\"../\")"
   ]
  },
  {
   "cell_type": "code",
   "execution_count": 4,
   "metadata": {},
   "outputs": [
    {
     "data": {
      "text/plain": [
       "'/Users/mark42/Documents/ML-Pipeline'"
      ]
     },
     "execution_count": 4,
     "metadata": {},
     "output_type": "execute_result"
    }
   ],
   "source": [
    "%pwd"
   ]
  },
  {
   "cell_type": "code",
   "execution_count": 5,
   "metadata": {},
   "outputs": [],
   "source": [
    "from dataclasses import dataclass\n",
    "from pathlib import Path\n",
    "\n",
    "@dataclass(frozen=True)\n",
    "class WorkingWithDataConfig:\n",
    "    root_dir: Path\n",
    "    local_data_file: Path\n",
    "    train_data_loader_path: Path\n",
    "    test_data_loader_path: Path"
   ]
  },
  {
   "cell_type": "code",
   "execution_count": 6,
   "metadata": {},
   "outputs": [],
   "source": [
    "from cnnClassifier.constants import *\n",
    "from cnnClassifier.utils.common import read_yaml, create_directories"
   ]
  },
  {
   "cell_type": "code",
   "execution_count": 7,
   "metadata": {},
   "outputs": [],
   "source": [
    "class ConfigurationManager:\n",
    "    def __init__(\n",
    "        self,\n",
    "        config_filepath = CONFIG_FILE_PATH,\n",
    "        params_filepath = PARAMS_FILE_PATH):\n",
    "\n",
    "        self.config = read_yaml(config_filepath)\n",
    "        self.params = read_yaml(params_filepath)\n",
    "\n",
    "        create_directories([self.config.artifacts_root])\n",
    "        \n",
    "    def get_working_with_data_config(self) -> WorkingWithDataConfig:\n",
    "        config = self.config.working_with_data\n",
    "\n",
    "        create_directories([config.root_dir])\n",
    "\n",
    "        working_with_data_config = WorkingWithDataConfig(\n",
    "            root_dir=config.root_dir,\n",
    "            local_data_file=config.local_data_file,\n",
    "            train_data_loader_path=config.train_data_loader_path,\n",
    "            test_data_loader_path=config.test_data_loader_path,\n",
    "        )\n",
    "\n",
    "        return working_with_data_config"
   ]
  },
  {
   "cell_type": "code",
   "execution_count": 8,
   "metadata": {},
   "outputs": [],
   "source": [
    "import os\n",
    "import torch\n",
    "from torch import nn\n",
    "from torch.utils.data import DataLoader\n",
    "from torchvision import datasets\n",
    "from torchvision.transforms import ToTensor\n",
    "from cnnClassifier import logger"
   ]
  },
  {
   "cell_type": "code",
   "execution_count": 9,
   "metadata": {},
   "outputs": [],
   "source": [
    "class WorkingWithData:\n",
    "    def __init__(self, config: WorkingWithDataConfig):\n",
    "        self.config = config\n",
    "\n",
    "    def download_data(self)-> str:\n",
    "        try: \n",
    "            download_dir = self.config.local_data_file\n",
    "            os.makedirs(\"artifacts/working_with_data\", exist_ok=True)\n",
    "            logger.info(f\"Downloading data from open datasets into {download_dir}\")\n",
    "            \n",
    "            # Download training data from open datasets.\n",
    "            training_data = datasets.FashionMNIST(\n",
    "                root=download_dir,\n",
    "                train=True,\n",
    "                download=True,\n",
    "                transform=ToTensor(),\n",
    "            )\n",
    "            # Download test data from open datasets.\n",
    "            test_data = datasets.FashionMNIST(\n",
    "                root=download_dir,\n",
    "                train=False,\n",
    "                download=True,\n",
    "                transform=ToTensor(),\n",
    "            )\n",
    "            \n",
    "            logger.info(f\"Downloaded data from open datasets into {download_dir}\")\n",
    "        \n",
    "        except Exception as e:\n",
    "            raise e\n",
    "\n",
    "        logger.info(f\"Loading data\")\n",
    "\n",
    "        batch_size = 64\n",
    "        # Create data loaders.\n",
    "        train_dataloader = DataLoader(training_data, batch_size=batch_size)\n",
    "        test_dataloader = DataLoader(test_data, batch_size=batch_size)\n",
    "        \n",
    "        for X, y in test_dataloader:\n",
    "            print(f\"Shape of X [N, C, H, W]: {X.shape}\")\n",
    "            print(f\"Shape of y: {y.shape} {y.dtype}\")\n",
    "            break\n",
    "        \n",
    "        logger.info(f\"Loaded data\")\n",
    "        self.save_data_loader(train_dataloader, self.config.train_data_loader_path)\n",
    "        self.save_data_loader(test_dataloader, self.config.test_data_loader_path)\n",
    "\n",
    "    @staticmethod\n",
    "    def save_data_loader(dataloader, path=Path):\n",
    "        torch.save(dataloader, path)"
   ]
  },
  {
   "cell_type": "code",
   "execution_count": 10,
   "metadata": {},
   "outputs": [
    {
     "name": "stdout",
     "output_type": "stream",
     "text": [
      "[2024-08-12 18:58:53,506: INFO: common: yaml file: config/config.yaml loaded successfully]\n",
      "[2024-08-12 18:58:53,508: INFO: common: yaml file: params.yaml loaded successfully]\n",
      "[2024-08-12 18:58:53,509: INFO: common: created directory at: artifacts]\n",
      "[2024-08-12 18:58:53,509: INFO: common: created directory at: artifacts/working_with_data]\n",
      "[2024-08-12 18:58:53,510: INFO: 1132727256: Downloading data from open datasets into artifacts/working_with_data]\n",
      "[2024-08-12 18:58:53,564: INFO: 1132727256: Downloaded data from open datasets into artifacts/working_with_data]\n",
      "[2024-08-12 18:58:53,565: INFO: 1132727256: Loading data]\n",
      "Shape of X [N, C, H, W]: torch.Size([64, 1, 28, 28])\n",
      "Shape of y: torch.Size([64]) torch.int64\n",
      "[2024-08-12 18:58:53,570: INFO: 1132727256: Loaded data]\n"
     ]
    }
   ],
   "source": [
    "try:\n",
    "    config = ConfigurationManager()\n",
    "    working_with_data_config = config.get_working_with_data_config()\n",
    "    working_with_data = WorkingWithData(config=working_with_data_config)\n",
    "    working_with_data.download_data()\n",
    "except Exception as e:\n",
    "    raise e"
   ]
  }
 ],
 "metadata": {
  "kernelspec": {
   "display_name": "Python 3.8.19 ('cancer')",
   "language": "python",
   "name": "python3"
  },
  "language_info": {
   "codemirror_mode": {
    "name": "ipython",
    "version": 3
   },
   "file_extension": ".py",
   "mimetype": "text/x-python",
   "name": "python",
   "nbconvert_exporter": "python",
   "pygments_lexer": "ipython3",
   "version": "3.8.19"
  },
  "orig_nbformat": 4,
  "vscode": {
   "interpreter": {
    "hash": "a2894c9eab15e741f6dfd9b2dc3e34f698d7a3579c4dae7938f35222836697c5"
   }
  }
 },
 "nbformat": 4,
 "nbformat_minor": 2
}
